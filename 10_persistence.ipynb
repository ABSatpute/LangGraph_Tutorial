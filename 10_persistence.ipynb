{
 "cells": [
  {
   "cell_type": "code",
   "execution_count": 18,
   "id": "3addf50d",
   "metadata": {},
   "outputs": [],
   "source": [
    "from langgraph.graph import StateGraph, START, END\n",
    "from typing import TypedDict\n",
    "from langchain_openai import ChatOpenAI\n",
    "from dotenv import load_dotenv\n",
    "from langgraph.checkpoint.memory import InMemorySaver"
   ]
  },
  {
   "cell_type": "code",
   "execution_count": 19,
   "id": "2acf83b6",
   "metadata": {},
   "outputs": [],
   "source": [
    "load_dotenv()\n",
    "\n",
    "llm = ChatOpenAI()"
   ]
  },
  {
   "cell_type": "code",
   "execution_count": 20,
   "id": "08d7c2af",
   "metadata": {},
   "outputs": [],
   "source": [
    "class JokeState(TypedDict):\n",
    "    topic: str\n",
    "    joke: str\n",
    "    explanation: str"
   ]
  },
  {
   "cell_type": "code",
   "execution_count": 21,
   "id": "61c2fb39",
   "metadata": {},
   "outputs": [],
   "source": [
    "def generate_joke(state: JokeState):\n",
    "    prompt = f'generate a joke on the topic {state['topic']}'\n",
    "    response = llm.invoke(prompt).content\n",
    "    \n",
    "    return {'joke': response}\n",
    "    "
   ]
  },
  {
   "cell_type": "code",
   "execution_count": 22,
   "id": "1635d048",
   "metadata": {},
   "outputs": [],
   "source": [
    "def generate_explanation(state: JokeState):\n",
    "    prompt = f'write an explaination for the joke - {state['joke']}'\n",
    "    \n",
    "    response = llm.invoke(prompt).content\n",
    "    \n",
    "    return {'explanation' : response}"
   ]
  },
  {
   "cell_type": "code",
   "execution_count": 30,
   "id": "6c47be28",
   "metadata": {},
   "outputs": [],
   "source": [
    "graph = StateGraph(JokeState)\n",
    "\n",
    "graph.add_node('generate_joke', generate_joke)\n",
    "graph.add_node('generate_explanation', generate_explanation)\n",
    "\n",
    "graph.add_edge(START, 'generate_joke')\n",
    "graph.add_edge('generate_joke', 'generate_explanation')\n",
    "graph.add_edge('generate_explanation', END)\n",
    "\n",
    "checkpointer = InMemorySaver()\n",
    "\n",
    "workflow = graph.compile(checkpointer=checkpointer)"
   ]
  },
  {
   "cell_type": "code",
   "execution_count": 37,
   "id": "60ba3420",
   "metadata": {},
   "outputs": [
    {
     "data": {
      "text/plain": [
       "{'topic': 'pizza',\n",
       " 'joke': 'Why did the pizza go to the party? \\nBecause it wanted to get a \"pizza\" the action!',\n",
       " 'explanation': 'This joke is a play on words - the phrase \"get a piece of the action\" is a common expression that means to get involved or participate in something exciting or enjoyable. In this joke, the pizza went to the party because it wanted to \"get a \\'pizza\\' of the action,\" with \"pizza\" sounding like \"piece of.\" It\\'s a light-hearted and punny explanation for why the pizza decided to attend the party.'}"
      ]
     },
     "execution_count": 37,
     "metadata": {},
     "output_type": "execute_result"
    }
   ],
   "source": [
    "config0 = {'configurable': {\"thread_id\":\"0\"}}\n",
    "workflow.invoke({'topic':'pizza'}, config=config0)"
   ]
  },
  {
   "cell_type": "code",
   "execution_count": 38,
   "id": "e98c6d16",
   "metadata": {},
   "outputs": [
    {
     "data": {
      "text/plain": [
       "StateSnapshot(values={'topic': 'pizza', 'joke': 'Why did the pizza go to the party? \\nBecause it wanted to get a \"pizza\" the action!', 'explanation': 'This joke is a play on words - the phrase \"get a piece of the action\" is a common expression that means to get involved or participate in something exciting or enjoyable. In this joke, the pizza went to the party because it wanted to \"get a \\'pizza\\' of the action,\" with \"pizza\" sounding like \"piece of.\" It\\'s a light-hearted and punny explanation for why the pizza decided to attend the party.'}, next=(), config={'configurable': {'thread_id': '0', 'checkpoint_ns': '', 'checkpoint_id': '1f09aaa9-cdaf-6c96-8002-a7e49abd6e7f'}}, metadata={'source': 'loop', 'step': 2, 'parents': {}}, created_at='2025-09-26T07:30:01.520014+00:00', parent_config={'configurable': {'thread_id': '0', 'checkpoint_ns': '', 'checkpoint_id': '1f09aaa9-c2f2-65fc-8001-67142e493cff'}}, tasks=(), interrupts=())"
      ]
     },
     "execution_count": 38,
     "metadata": {},
     "output_type": "execute_result"
    }
   ],
   "source": [
    "workflow.get_state(config0)"
   ]
  },
  {
   "cell_type": "code",
   "execution_count": 39,
   "id": "eac5c3e5",
   "metadata": {},
   "outputs": [
    {
     "data": {
      "text/plain": [
       "[StateSnapshot(values={'topic': 'pizza', 'joke': 'Why did the pizza go to the party? \\nBecause it wanted to get a \"pizza\" the action!', 'explanation': 'This joke is a play on words - the phrase \"get a piece of the action\" is a common expression that means to get involved or participate in something exciting or enjoyable. In this joke, the pizza went to the party because it wanted to \"get a \\'pizza\\' of the action,\" with \"pizza\" sounding like \"piece of.\" It\\'s a light-hearted and punny explanation for why the pizza decided to attend the party.'}, next=(), config={'configurable': {'thread_id': '0', 'checkpoint_ns': '', 'checkpoint_id': '1f09aaa9-cdaf-6c96-8002-a7e49abd6e7f'}}, metadata={'source': 'loop', 'step': 2, 'parents': {}}, created_at='2025-09-26T07:30:01.520014+00:00', parent_config={'configurable': {'thread_id': '0', 'checkpoint_ns': '', 'checkpoint_id': '1f09aaa9-c2f2-65fc-8001-67142e493cff'}}, tasks=(), interrupts=()),\n",
       " StateSnapshot(values={'topic': 'pizza', 'joke': 'Why did the pizza go to the party? \\nBecause it wanted to get a \"pizza\" the action!'}, next=('generate_explanation',), config={'configurable': {'thread_id': '0', 'checkpoint_ns': '', 'checkpoint_id': '1f09aaa9-c2f2-65fc-8001-67142e493cff'}}, metadata={'source': 'loop', 'step': 1, 'parents': {}}, created_at='2025-09-26T07:30:00.393855+00:00', parent_config={'configurable': {'thread_id': '0', 'checkpoint_ns': '', 'checkpoint_id': '1f09aaa9-bbb1-6a72-8000-4977c87bf7bb'}}, tasks=(PregelTask(id='54363068-da79-395e-364d-3d493282b351', name='generate_explanation', path=('__pregel_pull', 'generate_explanation'), error=None, interrupts=(), state=None, result={'explanation': 'This joke is a play on words - the phrase \"get a piece of the action\" is a common expression that means to get involved or participate in something exciting or enjoyable. In this joke, the pizza went to the party because it wanted to \"get a \\'pizza\\' of the action,\" with \"pizza\" sounding like \"piece of.\" It\\'s a light-hearted and punny explanation for why the pizza decided to attend the party.'}),), interrupts=()),\n",
       " StateSnapshot(values={'topic': 'pizza'}, next=('generate_joke',), config={'configurable': {'thread_id': '0', 'checkpoint_ns': '', 'checkpoint_id': '1f09aaa9-bbb1-6a72-8000-4977c87bf7bb'}}, metadata={'source': 'loop', 'step': 0, 'parents': {}}, created_at='2025-09-26T07:29:59.633347+00:00', parent_config={'configurable': {'thread_id': '0', 'checkpoint_ns': '', 'checkpoint_id': '1f09aaa9-bbae-61e4-bfff-c7611a74fcd7'}}, tasks=(PregelTask(id='24000527-5ae4-294d-b1a6-cb32a7dda43d', name='generate_joke', path=('__pregel_pull', 'generate_joke'), error=None, interrupts=(), state=None, result={'joke': 'Why did the pizza go to the party? \\nBecause it wanted to get a \"pizza\" the action!'}),), interrupts=()),\n",
       " StateSnapshot(values={}, next=('__start__',), config={'configurable': {'thread_id': '0', 'checkpoint_ns': '', 'checkpoint_id': '1f09aaa9-bbae-61e4-bfff-c7611a74fcd7'}}, metadata={'source': 'input', 'step': -1, 'parents': {}}, created_at='2025-09-26T07:29:59.631896+00:00', parent_config=None, tasks=(PregelTask(id='4f0a2fd7-f3fb-6631-8f77-bcd50fdb442a', name='__start__', path=('__pregel_pull', '__start__'), error=None, interrupts=(), state=None, result={'topic': 'pizza'}),), interrupts=())]"
      ]
     },
     "execution_count": 39,
     "metadata": {},
     "output_type": "execute_result"
    }
   ],
   "source": [
    "list(workflow.get_state_history(config0))"
   ]
  },
  {
   "cell_type": "code",
   "execution_count": 41,
   "id": "fea473db",
   "metadata": {},
   "outputs": [
    {
     "data": {
      "text/plain": [
       "{'topic': 'pasta',\n",
       " 'joke': \"Why did the pasta go to the party? \\nBecause it didn't want to be left unpenne-d!\",\n",
       " 'explanation': 'This joke is a play on words using the pun \"penne\" which sounds similar to the word \"alone\". In this case, the pasta went to the party because it didn\\'t want to be left \"unpenne-d\" or \"un-penneed\" which sounds like \"un-penned\" or \"un-panned\". It\\'s a light-hearted and humorous way to make a joke about pasta attending a party to not be left alone.'}"
      ]
     },
     "execution_count": 41,
     "metadata": {},
     "output_type": "execute_result"
    }
   ],
   "source": [
    "config3 = {'configurable': {\"thread_id\":\"3\"}}\n",
    "workflow.invoke({'topic':'pasta'}, config=config3)"
   ]
  },
  {
   "cell_type": "markdown",
   "id": "f3408160",
   "metadata": {},
   "source": [
    "### Time Travel"
   ]
  },
  {
   "cell_type": "code",
   "execution_count": 42,
   "id": "f78313c3",
   "metadata": {},
   "outputs": [
    {
     "data": {
      "text/plain": [
       "StateSnapshot(values={'topic': 'pizza'}, next=('generate_joke',), config={'configurable': {'thread_id': '0', 'checkpoint_id': '1f09aaa9-bbb1-6a72-8000-4977c87bf7bb'}}, metadata={'source': 'loop', 'step': 0, 'parents': {}}, created_at='2025-09-26T07:29:59.633347+00:00', parent_config={'configurable': {'thread_id': '0', 'checkpoint_ns': '', 'checkpoint_id': '1f09aaa9-bbae-61e4-bfff-c7611a74fcd7'}}, tasks=(PregelTask(id='24000527-5ae4-294d-b1a6-cb32a7dda43d', name='generate_joke', path=('__pregel_pull', 'generate_joke'), error=None, interrupts=(), state=None, result={'joke': 'Why did the pizza go to the party? \\nBecause it wanted to get a \"pizza\" the action!'}),), interrupts=())"
      ]
     },
     "execution_count": 42,
     "metadata": {},
     "output_type": "execute_result"
    }
   ],
   "source": [
    "workflow.get_state({\"configurable\": {\"thread_id\":\"0\", \"checkpoint_id\":\"1f09aaa9-bbb1-6a72-8000-4977c87bf7bb\"}})"
   ]
  },
  {
   "cell_type": "code",
   "execution_count": 43,
   "id": "cc0867d1",
   "metadata": {},
   "outputs": [
    {
     "data": {
      "text/plain": [
       "{'topic': 'pizza',\n",
       " 'joke': 'Why did the pizza go to the therapist? Because it wanted to get to the crust of its problems!',\n",
       " 'explanation': 'This joke is a play on words, as \"get to the crust of the problem\" is a common saying that means to get to the root or core of an issue. In this joke, the pizza goes to the therapist not because it has emotional problems like a human would, but because it literally wants to get to the crust, or the outer edge, of its problems - in this case, the crust of the pizza itself. The humor comes from the absurdity of a pizza seeking therapy for its food-related issues.'}"
      ]
     },
     "execution_count": 43,
     "metadata": {},
     "output_type": "execute_result"
    }
   ],
   "source": [
    "workflow.invoke(None, {\"configurable\": {\"thread_id\":\"0\", \"checkpoint_id\":\"1f09aaa9-bbb1-6a72-8000-4977c87bf7bb\"}})"
   ]
  },
  {
   "cell_type": "code",
   "execution_count": 44,
   "id": "b173f12c",
   "metadata": {},
   "outputs": [
    {
     "data": {
      "text/plain": [
       "[StateSnapshot(values={'topic': 'pizza', 'joke': 'Why did the pizza go to the therapist? Because it wanted to get to the crust of its problems!', 'explanation': 'This joke is a play on words, as \"get to the crust of the problem\" is a common saying that means to get to the root or core of an issue. In this joke, the pizza goes to the therapist not because it has emotional problems like a human would, but because it literally wants to get to the crust, or the outer edge, of its problems - in this case, the crust of the pizza itself. The humor comes from the absurdity of a pizza seeking therapy for its food-related issues.'}, next=(), config={'configurable': {'thread_id': '0', 'checkpoint_ns': '', 'checkpoint_id': '1f09ab7a-482f-6272-8002-5e133143502e'}}, metadata={'source': 'loop', 'step': 2, 'parents': {}}, created_at='2025-09-26T09:03:17.822297+00:00', parent_config={'configurable': {'thread_id': '0', 'checkpoint_ns': '', 'checkpoint_id': '1f09ab7a-34a1-649b-8001-7a41f4ffc28a'}}, tasks=(), interrupts=()),\n",
       " StateSnapshot(values={'topic': 'pizza', 'joke': 'Why did the pizza go to the therapist? Because it wanted to get to the crust of its problems!'}, next=('generate_explanation',), config={'configurable': {'thread_id': '0', 'checkpoint_ns': '', 'checkpoint_id': '1f09ab7a-34a1-649b-8001-7a41f4ffc28a'}}, metadata={'source': 'loop', 'step': 1, 'parents': {}}, created_at='2025-09-26T09:03:15.771767+00:00', parent_config={'configurable': {'thread_id': '0', 'checkpoint_ns': '', 'checkpoint_id': '1f09aaa9-bbb1-6a72-8000-4977c87bf7bb'}}, tasks=(PregelTask(id='5e44ca57-0f69-5170-c1c6-572c50f80134', name='generate_explanation', path=('__pregel_pull', 'generate_explanation'), error=None, interrupts=(), state=None, result={'explanation': 'This joke is a play on words, as \"get to the crust of the problem\" is a common saying that means to get to the root or core of an issue. In this joke, the pizza goes to the therapist not because it has emotional problems like a human would, but because it literally wants to get to the crust, or the outer edge, of its problems - in this case, the crust of the pizza itself. The humor comes from the absurdity of a pizza seeking therapy for its food-related issues.'}),), interrupts=()),\n",
       " StateSnapshot(values={'topic': 'pizza', 'joke': 'Why did the pizza go to the party? \\nBecause it wanted to get a \"pizza\" the action!', 'explanation': 'This joke is a play on words - the phrase \"get a piece of the action\" is a common expression that means to get involved or participate in something exciting or enjoyable. In this joke, the pizza went to the party because it wanted to \"get a \\'pizza\\' of the action,\" with \"pizza\" sounding like \"piece of.\" It\\'s a light-hearted and punny explanation for why the pizza decided to attend the party.'}, next=(), config={'configurable': {'thread_id': '0', 'checkpoint_ns': '', 'checkpoint_id': '1f09aaa9-cdaf-6c96-8002-a7e49abd6e7f'}}, metadata={'source': 'loop', 'step': 2, 'parents': {}}, created_at='2025-09-26T07:30:01.520014+00:00', parent_config={'configurable': {'thread_id': '0', 'checkpoint_ns': '', 'checkpoint_id': '1f09aaa9-c2f2-65fc-8001-67142e493cff'}}, tasks=(), interrupts=()),\n",
       " StateSnapshot(values={'topic': 'pizza', 'joke': 'Why did the pizza go to the party? \\nBecause it wanted to get a \"pizza\" the action!'}, next=('generate_explanation',), config={'configurable': {'thread_id': '0', 'checkpoint_ns': '', 'checkpoint_id': '1f09aaa9-c2f2-65fc-8001-67142e493cff'}}, metadata={'source': 'loop', 'step': 1, 'parents': {}}, created_at='2025-09-26T07:30:00.393855+00:00', parent_config={'configurable': {'thread_id': '0', 'checkpoint_ns': '', 'checkpoint_id': '1f09aaa9-bbb1-6a72-8000-4977c87bf7bb'}}, tasks=(PregelTask(id='54363068-da79-395e-364d-3d493282b351', name='generate_explanation', path=('__pregel_pull', 'generate_explanation'), error=None, interrupts=(), state=None, result={'explanation': 'This joke is a play on words - the phrase \"get a piece of the action\" is a common expression that means to get involved or participate in something exciting or enjoyable. In this joke, the pizza went to the party because it wanted to \"get a \\'pizza\\' of the action,\" with \"pizza\" sounding like \"piece of.\" It\\'s a light-hearted and punny explanation for why the pizza decided to attend the party.'}),), interrupts=()),\n",
       " StateSnapshot(values={'topic': 'pizza'}, next=('generate_joke',), config={'configurable': {'thread_id': '0', 'checkpoint_ns': '', 'checkpoint_id': '1f09aaa9-bbb1-6a72-8000-4977c87bf7bb'}}, metadata={'source': 'loop', 'step': 0, 'parents': {}}, created_at='2025-09-26T07:29:59.633347+00:00', parent_config={'configurable': {'thread_id': '0', 'checkpoint_ns': '', 'checkpoint_id': '1f09aaa9-bbae-61e4-bfff-c7611a74fcd7'}}, tasks=(PregelTask(id='24000527-5ae4-294d-b1a6-cb32a7dda43d', name='generate_joke', path=('__pregel_pull', 'generate_joke'), error=None, interrupts=(), state=None, result={'joke': 'Why did the pizza go to the party? \\nBecause it wanted to get a \"pizza\" the action!'}),), interrupts=()),\n",
       " StateSnapshot(values={}, next=('__start__',), config={'configurable': {'thread_id': '0', 'checkpoint_ns': '', 'checkpoint_id': '1f09aaa9-bbae-61e4-bfff-c7611a74fcd7'}}, metadata={'source': 'input', 'step': -1, 'parents': {}}, created_at='2025-09-26T07:29:59.631896+00:00', parent_config=None, tasks=(PregelTask(id='4f0a2fd7-f3fb-6631-8f77-bcd50fdb442a', name='__start__', path=('__pregel_pull', '__start__'), error=None, interrupts=(), state=None, result={'topic': 'pizza'}),), interrupts=())]"
      ]
     },
     "execution_count": 44,
     "metadata": {},
     "output_type": "execute_result"
    }
   ],
   "source": [
    "list(workflow.get_state_history(config0))"
   ]
  },
  {
   "cell_type": "code",
   "execution_count": null,
   "id": "50d9d50b",
   "metadata": {},
   "outputs": [],
   "source": []
  }
 ],
 "metadata": {
  "kernelspec": {
   "display_name": "myvenv",
   "language": "python",
   "name": "python3"
  },
  "language_info": {
   "codemirror_mode": {
    "name": "ipython",
    "version": 3
   },
   "file_extension": ".py",
   "mimetype": "text/x-python",
   "name": "python",
   "nbconvert_exporter": "python",
   "pygments_lexer": "ipython3",
   "version": "3.13.3"
  }
 },
 "nbformat": 4,
 "nbformat_minor": 5
}
