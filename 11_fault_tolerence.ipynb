{
 "cells": [
  {
   "cell_type": "code",
   "execution_count": 15,
   "id": "5ffec70e",
   "metadata": {},
   "outputs": [],
   "source": [
    "from langgraph.graph import StateGraph, START, END\n",
    "from langgraph.checkpoint.memory import InMemorySaver\n",
    "from typing import TypedDict\n",
    "import time"
   ]
  },
  {
   "cell_type": "code",
   "execution_count": 16,
   "id": "5bbeb655",
   "metadata": {},
   "outputs": [],
   "source": [
    "class CrashState(TypedDict):\n",
    "    input: str\n",
    "    step1: str\n",
    "    step2: str\n",
    "    step3: str"
   ]
  },
  {
   "cell_type": "code",
   "execution_count": 17,
   "id": "75b8ad24",
   "metadata": {},
   "outputs": [],
   "source": [
    "def step_1(state: CrashState) -> CrashState:\n",
    "    \n",
    "    print(\"step 1 executed\")\n",
    "    return {'step1': 'done', 'input':state['input']}\n",
    "\n",
    "def step_2(state: CrashState) -> CrashState:\n",
    "    print(\"step 2 hanging ..... now manually intrrupt from notebook toolbar (stop button)\")\n",
    "    time.sleep(60)\n",
    "    return {\"step2\": \"Done\"}   \n",
    "\n",
    "def step_3(state: CrashState) -> CrashState:\n",
    "    \n",
    "    print(\"step 3 executed\")\n",
    "    return {'step3': 'done'}\n"
   ]
  },
  {
   "cell_type": "code",
   "execution_count": 18,
   "id": "8e771281",
   "metadata": {},
   "outputs": [],
   "source": [
    "builder = StateGraph(CrashState)\n",
    "\n",
    "builder.add_node('step_1', step_1)\n",
    "builder.add_node('step_2', step_2)\n",
    "builder.add_node('step_3', step_3)\n",
    "\n",
    "builder.add_edge(START, \"step_1\")\n",
    "builder.add_edge(\"step_1\", \"step_2\")\n",
    "builder.add_edge(\"step_2\", \"step_3\")\n",
    "builder.add_edge(\"step_3\", END)\n",
    "\n",
    "checkpointer = InMemorySaver()\n",
    "\n",
    "graph = builder.compile(checkpointer=checkpointer)"
   ]
  },
  {
   "cell_type": "code",
   "execution_count": 19,
   "id": "3e37a85f",
   "metadata": {},
   "outputs": [
    {
     "data": {
      "image/png": "[encoded data removed]",
      "text/plain": [
       "<langgraph.graph.state.CompiledStateGraph object at 0x00000120CB29A0D0>"
      ]
     },
     "execution_count": 19,
     "metadata": {},
     "output_type": "execute_result"
    }
   ],
   "source": [
    "graph"
   ]
  },
  {
   "cell_type": "code",
   "execution_count": 20,
   "id": "0a414dab",
   "metadata": {},
   "outputs": [
    {
     "name": "stdout",
     "output_type": "stream",
     "text": [
      "Running graph : please manually interrupt during step 2...\n",
      "step 1 executed\n",
      "step 2 hanging ..... now manually intrrupt from notebook toolbar (stop button)\n",
      "Kernel manually interrupted (crash simulated)\n"
     ]
    }
   ],
   "source": [
    "try:\n",
    "    print(\"Running graph : please manually interrupt during step 2...\")\n",
    "    graph.invoke({\"input\": \"start\"}, config= {\"configurable\": {\"thread_id\": \"thread-1\"}})\n",
    "    \n",
    "except KeyboardInterrupt:\n",
    "    print(\"Kernel manually interrupted (crash simulated)\")"
   ]
  },
  {
   "cell_type": "code",
   "execution_count": 21,
   "id": "b2d9fbb2",
   "metadata": {},
   "outputs": [
    {
     "data": {
      "text/plain": [
       "StateSnapshot(values={'input': 'start', 'step1': 'done'}, next=('step_2',), config={'configurable': {'thread_id': 'thread-1', 'checkpoint_ns': '', 'checkpoint_id': '1f09ab47-0218-6faf-8001-d64a90d987fe'}}, metadata={'source': 'loop', 'step': 1, 'parents': {}}, created_at='2025-09-26T08:40:21.452357+00:00', parent_config={'configurable': {'thread_id': 'thread-1', 'checkpoint_ns': '', 'checkpoint_id': '1f09ab47-0215-6bb5-8000-a35648c1a640'}}, tasks=(PregelTask(id='00cd5790-ce81-2808-b172-0ec70fc8d99f', name='step_2', path=('__pregel_pull', 'step_2'), error=None, interrupts=(), state=None, result=None),), interrupts=())"
      ]
     },
     "execution_count": 21,
     "metadata": {},
     "output_type": "execute_result"
    }
   ],
   "source": [
    "graph.get_state({\"configurable\": {\"thread_id\": \"thread-1\"}})"
   ]
  },
  {
   "cell_type": "code",
   "execution_count": 23,
   "id": "05a56a63",
   "metadata": {},
   "outputs": [
    {
     "data": {
      "text/plain": [
       "[StateSnapshot(values={'input': 'start', 'step1': 'done'}, next=('step_2',), config={'configurable': {'thread_id': 'thread-1', 'checkpoint_ns': '', 'checkpoint_id': '1f09ab47-0218-6faf-8001-d64a90d987fe'}}, metadata={'source': 'loop', 'step': 1, 'parents': {}}, created_at='2025-09-26T08:40:21.452357+00:00', parent_config={'configurable': {'thread_id': 'thread-1', 'checkpoint_ns': '', 'checkpoint_id': '1f09ab47-0215-6bb5-8000-a35648c1a640'}}, tasks=(PregelTask(id='00cd5790-ce81-2808-b172-0ec70fc8d99f', name='step_2', path=('__pregel_pull', 'step_2'), error=None, interrupts=(), state=None, result=None),), interrupts=()),\n",
       " StateSnapshot(values={'input': 'start'}, next=('step_1',), config={'configurable': {'thread_id': 'thread-1', 'checkpoint_ns': '', 'checkpoint_id': '1f09ab47-0215-6bb5-8000-a35648c1a640'}}, metadata={'source': 'loop', 'step': 0, 'parents': {}}, created_at='2025-09-26T08:40:21.451022+00:00', parent_config={'configurable': {'thread_id': 'thread-1', 'checkpoint_ns': '', 'checkpoint_id': '1f09ab47-0210-6b57-bfff-f0d68ff4ab26'}}, tasks=(PregelTask(id='73805d52-26be-ef85-016f-9a3ec1a1f8e6', name='step_1', path=('__pregel_pull', 'step_1'), error=None, interrupts=(), state=None, result={'step1': 'done', 'input': 'start'}),), interrupts=()),\n",
       " StateSnapshot(values={}, next=('__start__',), config={'configurable': {'thread_id': 'thread-1', 'checkpoint_ns': '', 'checkpoint_id': '1f09ab47-0210-6b57-bfff-f0d68ff4ab26'}}, metadata={'source': 'input', 'step': -1, 'parents': {}}, created_at='2025-09-26T08:40:21.448960+00:00', parent_config=None, tasks=(PregelTask(id='e43ce137-c4e7-2bd4-307c-8db78d5661a4', name='__start__', path=('__pregel_pull', '__start__'), error=None, interrupts=(), state=None, result={'input': 'start'}),), interrupts=())]"
      ]
     },
     "execution_count": 23,
     "metadata": {},
     "output_type": "execute_result"
    }
   ],
   "source": [
    "list(graph.get_state_history({\"configurable\": {\"thread_id\": \"thread-1\"}}))"
   ]
  },
  {
   "cell_type": "code",
   "execution_count": 24,
   "id": "db17aa94",
   "metadata": {},
   "outputs": [
    {
     "name": "stdout",
     "output_type": "stream",
     "text": [
      "step 2 hanging ..... now manually intrrupt from notebook toolbar (stop button)\n",
      "step 3 executed\n",
      "\n",
      " Final State:  {'input': 'start', 'step1': 'done', 'step2': 'Done', 'step3': 'done'}\n"
     ]
    }
   ],
   "source": [
    "final_state = graph.invoke(None, config = {\"configurable\": {\"thread_id\": \"thread-1\"}})\n",
    "print(\"\\n Final State: \", final_state)\n"
   ]
  },
  {
   "cell_type": "code",
   "execution_count": 25,
   "id": "a9ae783d",
   "metadata": {},
   "outputs": [
    {
     "data": {
      "text/plain": [
       "StateSnapshot(values={'input': 'start', 'step1': 'done', 'step2': 'Done', 'step3': 'done'}, next=(), config={'configurable': {'thread_id': 'thread-1', 'checkpoint_ns': '', 'checkpoint_id': '1f09ab52-7050-6a07-8003-80fa915a716d'}}, metadata={'source': 'loop', 'step': 3, 'parents': {}}, created_at='2025-09-26T08:45:28.288457+00:00', parent_config={'configurable': {'thread_id': 'thread-1', 'checkpoint_ns': '', 'checkpoint_id': '1f09ab52-7049-66b2-8002-f6e8acb0b75c'}}, tasks=(), interrupts=())"
      ]
     },
     "execution_count": 25,
     "metadata": {},
     "output_type": "execute_result"
    }
   ],
   "source": [
    "graph.get_state({\"configurable\": {\"thread_id\": \"thread-1\"}})"
   ]
  },
  {
   "cell_type": "code",
   "execution_count": 26,
   "id": "af3cd9eb",
   "metadata": {},
   "outputs": [
    {
     "data": {
      "text/plain": [
       "[StateSnapshot(values={'input': 'start', 'step1': 'done', 'step2': 'Done', 'step3': 'done'}, next=(), config={'configurable': {'thread_id': 'thread-1', 'checkpoint_ns': '', 'checkpoint_id': '1f09ab52-7050-6a07-8003-80fa915a716d'}}, metadata={'source': 'loop', 'step': 3, 'parents': {}}, created_at='2025-09-26T08:45:28.288457+00:00', parent_config={'configurable': {'thread_id': 'thread-1', 'checkpoint_ns': '', 'checkpoint_id': '1f09ab52-7049-66b2-8002-f6e8acb0b75c'}}, tasks=(), interrupts=()),\n",
       " StateSnapshot(values={'input': 'start', 'step1': 'done', 'step2': 'Done'}, next=('step_3',), config={'configurable': {'thread_id': 'thread-1', 'checkpoint_ns': '', 'checkpoint_id': '1f09ab52-7049-66b2-8002-f6e8acb0b75c'}}, metadata={'source': 'loop', 'step': 2, 'parents': {}}, created_at='2025-09-26T08:45:28.285483+00:00', parent_config={'configurable': {'thread_id': 'thread-1', 'checkpoint_ns': '', 'checkpoint_id': '1f09ab47-0218-6faf-8001-d64a90d987fe'}}, tasks=(PregelTask(id='55d0feeb-da70-d862-41d8-5389853230ea', name='step_3', path=('__pregel_pull', 'step_3'), error=None, interrupts=(), state=None, result={'step3': 'done'}),), interrupts=()),\n",
       " StateSnapshot(values={'input': 'start', 'step1': 'done'}, next=('step_2',), config={'configurable': {'thread_id': 'thread-1', 'checkpoint_ns': '', 'checkpoint_id': '1f09ab47-0218-6faf-8001-d64a90d987fe'}}, metadata={'source': 'loop', 'step': 1, 'parents': {}}, created_at='2025-09-26T08:40:21.452357+00:00', parent_config={'configurable': {'thread_id': 'thread-1', 'checkpoint_ns': '', 'checkpoint_id': '1f09ab47-0215-6bb5-8000-a35648c1a640'}}, tasks=(PregelTask(id='00cd5790-ce81-2808-b172-0ec70fc8d99f', name='step_2', path=('__pregel_pull', 'step_2'), error=None, interrupts=(), state=None, result={'step2': 'Done'}),), interrupts=()),\n",
       " StateSnapshot(values={'input': 'start'}, next=('step_1',), config={'configurable': {'thread_id': 'thread-1', 'checkpoint_ns': '', 'checkpoint_id': '1f09ab47-0215-6bb5-8000-a35648c1a640'}}, metadata={'source': 'loop', 'step': 0, 'parents': {}}, created_at='2025-09-26T08:40:21.451022+00:00', parent_config={'configurable': {'thread_id': 'thread-1', 'checkpoint_ns': '', 'checkpoint_id': '1f09ab47-0210-6b57-bfff-f0d68ff4ab26'}}, tasks=(PregelTask(id='73805d52-26be-ef85-016f-9a3ec1a1f8e6', name='step_1', path=('__pregel_pull', 'step_1'), error=None, interrupts=(), state=None, result={'step1': 'done', 'input': 'start'}),), interrupts=()),\n",
       " StateSnapshot(values={}, next=('__start__',), config={'configurable': {'thread_id': 'thread-1', 'checkpoint_ns': '', 'checkpoint_id': '1f09ab47-0210-6b57-bfff-f0d68ff4ab26'}}, metadata={'source': 'input', 'step': -1, 'parents': {}}, created_at='2025-09-26T08:40:21.448960+00:00', parent_config=None, tasks=(PregelTask(id='e43ce137-c4e7-2bd4-307c-8db78d5661a4', name='__start__', path=('__pregel_pull', '__start__'), error=None, interrupts=(), state=None, result={'input': 'start'}),), interrupts=())]"
      ]
     },
     "execution_count": 26,
     "metadata": {},
     "output_type": "execute_result"
    }
   ],
   "source": [
    "list(graph.get_state_history({\"configurable\": {\"thread_id\": \"thread-1\"}}))"
   ]
  },
  {
   "cell_type": "code",
   "execution_count": null,
   "id": "52ac965a",
   "metadata": {},
   "outputs": [],
   "source": []
  }
 ],
 "metadata": {
  "kernelspec": {
   "display_name": "myvenv",
   "language": "python",
   "name": "python3"
  },
  "language_info": {
   "codemirror_mode": {
    "name": "ipython",
    "version": 3
   },
   "file_extension": ".py",
   "mimetype": "text/x-python",
   "name": "python",
   "nbconvert_exporter": "python",
   "pygments_lexer": "ipython3",
   "version": "3.13.3"
  }
 },
 "nbformat": 4,
 "nbformat_minor": 5
}
