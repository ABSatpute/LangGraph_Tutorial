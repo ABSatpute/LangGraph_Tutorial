{
 "cells": [
  {
   "cell_type": "code",
   "execution_count": 1,
   "id": "9b647a3f",
   "metadata": {},
   "outputs": [],
   "source": [
    "from langgraph.graph import StateGraph, START, END\n",
    "from langchain_openai import ChatOpenAI\n",
    "from typing import TypedDict\n",
    "from dotenv import load_dotenv"
   ]
  },
  {
   "cell_type": "code",
   "execution_count": 3,
   "id": "07127157",
   "metadata": {},
   "outputs": [],
   "source": [
    "load_dotenv()\n",
    "model = ChatOpenAI()"
   ]
  },
  {
   "cell_type": "code",
   "execution_count": 5,
   "id": "754ccb19",
   "metadata": {},
   "outputs": [],
   "source": [
    "# create state\n",
    "\n",
    "class BlogState(TypedDict):\n",
    "    topic : str\n",
    "    outline : str\n",
    "    content : str"
   ]
  },
  {
   "cell_type": "code",
   "execution_count": 23,
   "id": "c631c382",
   "metadata": {},
   "outputs": [],
   "source": [
    "def create_outline(state: BlogState) -> BlogState:\n",
    "    \n",
    "    # fetch title\n",
    "    topic = state['topic']\n",
    "    # call llm gen outline\n",
    "    prompt = f\"Generate a detailed outline for a blog on the topic - {topic}\"\n",
    "    outline = model.invoke(prompt).content\n",
    "    \n",
    "    \n",
    "    # update state\n",
    "    state['outline'] = outline\n",
    "    \n",
    "    return state"
   ]
  },
  {
   "cell_type": "code",
   "execution_count": 27,
   "id": "b111c522",
   "metadata": {},
   "outputs": [],
   "source": [
    "def create_blog(state: BlogState) -> BlogState:\n",
    "    \n",
    "    topic = state['topic']\n",
    "    outline = state['outline']\n",
    "    \n",
    "    prompt = f'create a blog on topic - {topic} using following outline- \\n {outline}'\n",
    "    blog = model.invoke(prompt).content\n",
    "    \n",
    "    state['content'] = blog\n",
    "    \n",
    "    return state"
   ]
  },
  {
   "cell_type": "code",
   "execution_count": 28,
   "id": "c46f9239",
   "metadata": {},
   "outputs": [],
   "source": [
    "graph = StateGraph(LLMState)\n",
    "\n",
    "# Nodes\n",
    "graph.add_node('create_outline', create_outline)\n",
    "graph.add_node('create_blog', create_blog)\n",
    "\n",
    "#Add Edges\n",
    "graph.add_edge(START, 'create_outline')\n",
    "graph.add_edge('create_outline', 'create_blog')\n",
    "graph.add_edge('create_blog', END)\n",
    "\n",
    "#compile the graph\n",
    "workflow = graph.compile()\n",
    "\n"
   ]
  },
  {
   "cell_type": "code",
   "execution_count": 31,
   "id": "31c3a7ed",
   "metadata": {},
   "outputs": [
    {
     "name": "stdout",
     "output_type": "stream",
     "text": [
      "\n",
      "\n",
      "The Rise of AI in India\n",
      "\n",
      "I. Introduction\n",
      "   A. Artificial intelligence (AI) is the simulation of human intelligence processes by machines, especially computer systems.\n",
      "   B. Importance of AI in India: AI has the potential to transform various sectors in India such as healthcare, finance, agriculture, etc.\n",
      "   C. Thesis statement: The rise of AI in India and its impact on various sectors.\n",
      "\n",
      "II. Historical background of AI in India\n",
      "   A. Early developments in AI in India: India has a rich history of research in AI dating back to the 1960s.\n",
      "   B. Adoption of AI technology in different industries: Various industries in India have started adopting AI technology to improve efficiency and productivity.\n",
      "   C. Role of research institutions and startups in promoting AI in India: Research institutions and startups are playing a key role in promoting AI technology in India.\n",
      "\n",
      "III. Current state of AI in India\n",
      "   A. Growth of AI startups and companies in India: The AI startup ecosystem in India has been growing rapidly in recent years.\n",
      "   B. Implementation of AI in various sectors: AI technology is being implemented in sectors such as healthcare, finance, agriculture, etc. to improve decision-making processes.\n",
      "   C. Government initiatives and policies to promote AI technology: The Indian government has been taking initiatives to promote AI technology in the country.\n",
      "\n",
      "IV. Challenges and opportunities of AI in India\n",
      "   A. Implementation challenges faced by businesses: Businesses in India are facing challenges in implementing AI technology due to lack of skilled talent and infrastructure.\n",
      "   B. Ethical and regulatory concerns: There are ethical and regulatory concerns related to AI technology in India that need to be addressed.\n",
      "   C. Opportunities for growth: Despite challenges, there are opportunities for growth and innovation in the AI sector in India.\n",
      "\n",
      "V. Impact of AI in India\n",
      "   A. Economic impact: AI technology has the potential to boost the Indian economy by improving efficiency and productivity in various sectors.\n",
      "   B. Job displacement and creation: AI technology may lead to job displacement in some sectors but also create new job opportunities in others.\n",
      "   C. Future prospects: The future prospects and growth potential of AI in India are promising.\n",
      "\n",
      "VI. Case studies of successful AI implementations in India\n",
      "   A. Examples of AI technologies being used: Companies in India are using AI technologies such as machine learning, natural language processing, etc.\n",
      "   B. Impact on efficiency and productivity: AI technology has been successful in improving efficiency and productivity in various sectors.\n",
      "   C. Lessons learned: There are lessons to be learned from successful AI implementations in India for future projects.\n",
      "\n",
      "VII. Conclusion\n",
      "   A. Recap of key points: The rise of AI in India has the potential to transform various sectors and boost the economy.\n",
      "   B. Future prospects and challenges: There are challenges to be addressed but the future prospects for AI in India are bright.\n",
      "   C. Final thoughts: The rise of AI in India has significant implications for the country's growth and development.\n"
     ]
    }
   ],
   "source": [
    "initial_state = {\"topic\" : \"Rise of ai in India\"}\n",
    "final_state = workflow.invoke(initial_state)\n",
    "print(final_state['content'])"
   ]
  },
  {
   "cell_type": "code",
   "execution_count": null,
   "id": "512ffa8b",
   "metadata": {},
   "outputs": [],
   "source": []
  }
 ],
 "metadata": {
  "kernelspec": {
   "display_name": "myvenv",
   "language": "python",
   "name": "python3"
  },
  "language_info": {
   "codemirror_mode": {
    "name": "ipython",
    "version": 3
   },
   "file_extension": ".py",
   "mimetype": "text/x-python",
   "name": "python",
   "nbconvert_exporter": "python",
   "pygments_lexer": "ipython3",
   "version": "3.13.3"
  }
 },
 "nbformat": 4,
 "nbformat_minor": 5
}
