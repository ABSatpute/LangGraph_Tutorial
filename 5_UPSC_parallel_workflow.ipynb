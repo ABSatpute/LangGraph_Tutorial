{
 "cells": [
  {
   "cell_type": "code",
   "execution_count": 17,
   "id": "3904e540",
   "metadata": {},
   "outputs": [],
   "source": [
    "from langgraph.graph import StateGraph, START, END\n",
    "from langchain_openai import ChatOpenAI\n",
    "from dotenv import load_dotenv\n",
    "from typing import TypedDict, Annotated\n",
    "from pydantic import BaseModel, Field\n",
    "import operator"
   ]
  },
  {
   "cell_type": "code",
   "execution_count": 18,
   "id": "298f67f4",
   "metadata": {},
   "outputs": [
    {
     "data": {
      "text/plain": [
       "True"
      ]
     },
     "execution_count": 18,
     "metadata": {},
     "output_type": "execute_result"
    }
   ],
   "source": [
    "load_dotenv()"
   ]
  },
  {
   "cell_type": "code",
   "execution_count": 19,
   "id": "80ae4303",
   "metadata": {},
   "outputs": [],
   "source": [
    "model = ChatOpenAI(model='gpt-4o-mini')"
   ]
  },
  {
   "cell_type": "code",
   "execution_count": 20,
   "id": "8ee23dbf",
   "metadata": {},
   "outputs": [],
   "source": [
    "class EvaluationScema(BaseModel):\n",
    "    \n",
    "    feedback: str = Field(description='detailed feedback for the essay')\n",
    "    score : int = Field(description='Score out of 10', ge=0, le=10)\n",
    "    "
   ]
  },
  {
   "cell_type": "code",
   "execution_count": 21,
   "id": "f57484ab",
   "metadata": {},
   "outputs": [],
   "source": [
    "structured_model = model.with_structured_output(EvaluationScema)"
   ]
  },
  {
   "cell_type": "code",
   "execution_count": 22,
   "id": "91363b5f",
   "metadata": {},
   "outputs": [],
   "source": [
    "essay = \"\"\"Here’s a structured essay on **The Role of India in Artificial Intelligence (AI):**\n",
    "\n",
    "---\n",
    "\n",
    "# The Role of India in Artificial Intelligence\n",
    "\n",
    "Artificial Intelligence (AI) has emerged as one of the most transformative technologies of the 21st century, reshaping industries, economies, and societies across the globe. India, with its large talent pool, rapidly expanding digital infrastructure, and innovation-driven ecosystem, is playing a significant role in the global AI revolution. The country’s journey in AI reflects its ambition not only to adopt cutting-edge technologies but also to lead in creating solutions that address unique socio-economic challenges.\n",
    "\n",
    "---\n",
    "\n",
    "## 1. India’s Growing AI Ecosystem\n",
    "\n",
    "India is home to one of the largest communities of technology professionals, data scientists, and software engineers. With over a million engineering graduates each year and strong IT service companies, India has the human capital necessary for AI development. Leading academic institutions like the Indian Institutes of Technology (IITs) and Indian Institute of Science (IISc) are driving advanced research, while startups are pushing the boundaries of AI applications in healthcare, education, agriculture, and finance.\n",
    "\n",
    "---\n",
    "\n",
    "## 2. Government Initiatives\n",
    "\n",
    "Recognizing the potential of AI, the Government of India has launched several initiatives.\n",
    "\n",
    "* **NITI Aayog’s National Strategy for Artificial Intelligence (2018)** identified five key sectors for AI application: healthcare, agriculture, education, smart cities, and mobility.\n",
    "* **Digital India and Startup India** programs have created a favorable environment for innovation.\n",
    "* **Centers of Excellence in AI** have been established to promote research and industry collaboration.\n",
    "  These initiatives show India’s commitment to becoming not just a consumer but also a producer of AI technologies.\n",
    "\n",
    "---\n",
    "\n",
    "## 3. AI in Industry and Business\n",
    "\n",
    "Indian industries are increasingly adopting AI for efficiency and innovation.\n",
    "\n",
    "* **Healthcare**: AI-powered diagnostic tools are helping doctors detect diseases like cancer and tuberculosis at an early stage.\n",
    "* **Agriculture**: AI-driven solutions assist farmers in crop monitoring, weather forecasting, and precision farming.\n",
    "* **Retail and E-commerce**: Companies like Flipkart and Reliance use AI for personalized recommendations and supply chain optimization.\n",
    "* **Banking and Finance**: AI is improving fraud detection, credit scoring, and customer service.\n",
    "\n",
    "These examples highlight how AI is not only boosting productivity but also enhancing customer experiences.\n",
    "\n",
    "---\n",
    "\n",
    "## 4. India’s Role in Global AI\n",
    "\n",
    "India is positioning itself as a global hub for AI talent and innovation. Many multinational corporations such as Google, Microsoft, and IBM have established AI research labs in India to leverage its skilled workforce. Indian startups are also gaining global recognition by providing AI-based solutions that are cost-effective and scalable, especially for emerging markets. Moreover, India actively participates in global discussions on AI ethics, governance, and regulation.\n",
    "\n",
    "---\n",
    "\n",
    "## 5. Challenges Ahead\n",
    "\n",
    "Despite its progress, India faces challenges in AI adoption.\n",
    "\n",
    "* Limited high-quality datasets and lack of standardized data infrastructure.\n",
    "* Skill gaps in advanced AI research and development.\n",
    "* Concerns about ethics, privacy, and bias in AI applications.\n",
    "* Need for stronger collaboration between academia, industry, and government.\n",
    "\n",
    "Addressing these challenges is essential if India wants to sustain its leadership in AI.\n",
    "\n",
    "---\n",
    "\n",
    "## 6. The Future Outlook\n",
    "\n",
    "With its demographic advantage, thriving startup ecosystem, and strong IT foundation, India is well-positioned to shape the future of AI. By investing in research, fostering ethical AI practices, and ensuring inclusive growth, India can use AI not only to drive economic progress but also to solve pressing issues like poverty, healthcare accessibility, and sustainable development.\n",
    "\n",
    "---\n",
    "\n",
    "# Conclusion\n",
    "\n",
    "India’s role in Artificial Intelligence is evolving from being a technology adopter to an innovation leader. Through government initiatives, industry participation, and a vibrant talent base, the country is contributing significantly to the global AI landscape. While challenges remain, India’s proactive approach and unique strengths give it the potential to emerge as a key player in shaping the future of AI for both domestic development and global progress.\n",
    "\n",
    "---\n",
    "\n",
    "Would you like me to make this essay **short (300 words)** for an exam-style answer, or **long (1000+ words)** with more detailed examples and statistics?\n",
    "\"\"\""
   ]
  },
  {
   "cell_type": "code",
   "execution_count": 23,
   "id": "39e24cd9",
   "metadata": {},
   "outputs": [
    {
     "data": {
      "text/plain": [
       "\"The essay presents a comprehensive overview of India's role in Artificial Intelligence, effectively discussing various aspects such as the growing AI ecosystem, government initiatives, industrial application, global positioning, challenges, and future outlook. The structure is clear and logical, with well-defined sections that facilitate understanding. However, the language could benefit from enhanced variety and creativity. While professional and informative, the vocabulary is somewhat repetitive and lacks vivid descriptions that could make the text more engaging. Some sentences are also lengthy, which may hinder readability. Adding specific examples and statistics could strengthen arguments and provide concrete evidence of India’s AI advancements. Overall, this is a solid essay with a structured approach and relevant content.\""
      ]
     },
     "execution_count": 23,
     "metadata": {},
     "output_type": "execute_result"
    }
   ],
   "source": [
    "prompt = f'Evaluate the language quality of the following essay and provide a feedback and assign a score out of 10 \\n {essay}' \n",
    "\n",
    "structured_model.invoke(prompt).feedback"
   ]
  },
  {
   "cell_type": "code",
   "execution_count": 24,
   "id": "9bde712a",
   "metadata": {},
   "outputs": [],
   "source": [
    "class UPSCState(TypedDict): \n",
    "    essay: str\n",
    "    language_feedback: str\n",
    "    analysis_feedback: str\n",
    "    clarity_feedback: str\n",
    "    overall_feedback: str \n",
    "    indivisual_scores: Annotated[list[int], operator.add]\n",
    "    avg_score:float"
   ]
  },
  {
   "cell_type": "code",
   "execution_count": 25,
   "id": "68448256",
   "metadata": {},
   "outputs": [],
   "source": [
    "def evaluate_language(state:UPSCState):\n",
    "    prompt = f'Evaluate the language quality of the following essay and provide a feedback and assign a score out of 10 \\n {state['essay']}' \n",
    "    output=structured_model.invoke(prompt)\n",
    "    \n",
    "    return {'language_feedback': output, 'indivisual_scores': [output.score]}\n"
   ]
  },
  {
   "cell_type": "code",
   "execution_count": 26,
   "id": "71602214",
   "metadata": {},
   "outputs": [],
   "source": [
    "def evaluate_analysis(state:UPSCState):\n",
    "    prompt = f'Evaluate the depth of analysis of the following essay and provide a feedback and assign a score out of 10 \\n {state['essay']}' \n",
    "    output=structured_model.invoke(prompt)\n",
    "    \n",
    "    return {'analysis_feedback': output, 'indivisual_scores': [output.score]}\n"
   ]
  },
  {
   "cell_type": "code",
   "execution_count": 27,
   "id": "c527e90f",
   "metadata": {},
   "outputs": [],
   "source": [
    "def evaluate_thought(state:UPSCState):\n",
    "    prompt = f'Evaluate the clarity of thought of the following essay and provide a feedback and assign a score out of 10 \\n {state['essay']}' \n",
    "    output=structured_model.invoke(prompt)\n",
    "    \n",
    "    return {'clarity_feedback': output, 'indivisual_scores': [output.score]}\n"
   ]
  },
  {
   "cell_type": "code",
   "execution_count": 28,
   "id": "70f5f9c2",
   "metadata": {},
   "outputs": [],
   "source": [
    "def final_evaluation(state: UPSCState):\n",
    "    \n",
    "    #summary feedback\n",
    "    prompt = f'Based on the following feedbacks create a summarized feedback \\n language feedback -{state['language_feedback']} \\n depth of analysis feedback - {state[\"analysis_feedback\"]} \\n clarity of thought feedback - {state[\"clarity_feedback\"]}'\n",
    "    overall_feedback = model.invoke(prompt).content\n",
    "    \n",
    "    #Average calculate\n",
    "    avg_score = sum(state[\"indivisual_scores\"]) / len(state['indivisual_scores'])\n",
    "    \n",
    "    return {'overall_feedback': overall_feedback, 'avg_score': avg_score}"
   ]
  },
  {
   "cell_type": "code",
   "execution_count": 29,
   "id": "7446ff51",
   "metadata": {},
   "outputs": [],
   "source": [
    "graph = StateGraph(UPSCState)\n",
    "\n",
    "graph.add_node('evaluate_language', evaluate_language)\n",
    "graph.add_node('evaluate_analysis', evaluate_analysis)\n",
    "graph.add_node('evaluate_thought', evaluate_thought)\n",
    "graph.add_node('final_evaluation', final_evaluation)\n",
    "\n",
    "# edges\n",
    "graph.add_edge(START, \"evaluate_language\")\n",
    "graph.add_edge(START, \"evaluate_analysis\")\n",
    "graph.add_edge(START, \"evaluate_thought\")\n",
    "\n",
    "graph.add_edge(\"evaluate_language\", \"final_evaluation\")\n",
    "graph.add_edge(\"evaluate_analysis\", \"final_evaluation\")\n",
    "graph.add_edge(\"evaluate_thought\", \"final_evaluation\")\n",
    "\n",
    "graph.add_edge(\"final_evaluation\", END)\n",
    "\n",
    "workflow = graph.compile()"
   ]
  },
  {
   "cell_type": "code",
   "execution_count": 30,
   "id": "11c5f128",
   "metadata": {},
   "outputs": [
    {
     "ename": "ValueError",
     "evalue": "Failed to reach https://mermaid.ink/ API while trying to render your graph. Status code: 500.\n\nTo resolve this issue:\n1. Check your internet connection and try again\n2. Try with higher retry settings: `draw_mermaid_png(..., max_retries=5, retry_delay=2.0)`\n3. Use the Pyppeteer rendering method which will render your graph locally in a browser: `draw_mermaid_png(..., draw_method=MermaidDrawMethod.PYPPETEER)`",
     "output_type": "error",
     "traceback": [
      "\u001b[31m---------------------------------------------------------------------------\u001b[39m",
      "\u001b[31mValueError\u001b[39m                                Traceback (most recent call last)",
      "\u001b[36mFile \u001b[39m\u001b[32md:\\LangGraph\\myvenv\\Lib\\site-packages\\IPython\\core\\formatters.py:1036\u001b[39m, in \u001b[36mMimeBundleFormatter.__call__\u001b[39m\u001b[34m(self, obj, include, exclude)\u001b[39m\n\u001b[32m   1033\u001b[39m     method = get_real_method(obj, \u001b[38;5;28mself\u001b[39m.print_method)\n\u001b[32m   1035\u001b[39m     \u001b[38;5;28;01mif\u001b[39;00m method \u001b[38;5;129;01mis\u001b[39;00m \u001b[38;5;129;01mnot\u001b[39;00m \u001b[38;5;28;01mNone\u001b[39;00m:\n\u001b[32m-> \u001b[39m\u001b[32m1036\u001b[39m         \u001b[38;5;28;01mreturn\u001b[39;00m \u001b[43mmethod\u001b[49m\u001b[43m(\u001b[49m\u001b[43minclude\u001b[49m\u001b[43m=\u001b[49m\u001b[43minclude\u001b[49m\u001b[43m,\u001b[49m\u001b[43m \u001b[49m\u001b[43mexclude\u001b[49m\u001b[43m=\u001b[49m\u001b[43mexclude\u001b[49m\u001b[43m)\u001b[49m\n\u001b[32m   1037\u001b[39m     \u001b[38;5;28;01mreturn\u001b[39;00m \u001b[38;5;28;01mNone\u001b[39;00m\n\u001b[32m   1038\u001b[39m \u001b[38;5;28;01melse\u001b[39;00m:\n",
      "\u001b[36mFile \u001b[39m\u001b[32md:\\LangGraph\\myvenv\\Lib\\site-packages\\langgraph\\pregel\\main.py:758\u001b[39m, in \u001b[36mPregel._repr_mimebundle_\u001b[39m\u001b[34m(self, **kwargs)\u001b[39m\n\u001b[32m    754\u001b[39m \u001b[38;5;28;01mdef\u001b[39;00m\u001b[38;5;250m \u001b[39m\u001b[34m_repr_mimebundle_\u001b[39m(\u001b[38;5;28mself\u001b[39m, **kwargs: Any) -> \u001b[38;5;28mdict\u001b[39m[\u001b[38;5;28mstr\u001b[39m, Any]:\n\u001b[32m    755\u001b[39m \u001b[38;5;250m    \u001b[39m\u001b[33;03m\"\"\"Mime bundle used by Jupyter to display the graph\"\"\"\u001b[39;00m\n\u001b[32m    756\u001b[39m     \u001b[38;5;28;01mreturn\u001b[39;00m {\n\u001b[32m    757\u001b[39m         \u001b[33m\"\u001b[39m\u001b[33mtext/plain\u001b[39m\u001b[33m\"\u001b[39m: \u001b[38;5;28mrepr\u001b[39m(\u001b[38;5;28mself\u001b[39m),\n\u001b[32m--> \u001b[39m\u001b[32m758\u001b[39m         \u001b[33m\"\u001b[39m\u001b[33mimage/png\u001b[39m\u001b[33m\"\u001b[39m: \u001b[38;5;28;43mself\u001b[39;49m\u001b[43m.\u001b[49m\u001b[43mget_graph\u001b[49m\u001b[43m(\u001b[49m\u001b[43m)\u001b[49m\u001b[43m.\u001b[49m\u001b[43mdraw_mermaid_png\u001b[49m\u001b[43m(\u001b[49m\u001b[43m)\u001b[49m,\n\u001b[32m    759\u001b[39m     }\n",
      "\u001b[36mFile \u001b[39m\u001b[32md:\\LangGraph\\myvenv\\Lib\\site-packages\\langchain_core\\runnables\\graph.py:702\u001b[39m, in \u001b[36mGraph.draw_mermaid_png\u001b[39m\u001b[34m(self, curve_style, node_colors, wrap_label_n_words, output_file_path, draw_method, background_color, padding, max_retries, retry_delay, frontmatter_config)\u001b[39m\n\u001b[32m    692\u001b[39m \u001b[38;5;28;01mfrom\u001b[39;00m\u001b[38;5;250m \u001b[39m\u001b[34;01mlangchain_core\u001b[39;00m\u001b[34;01m.\u001b[39;00m\u001b[34;01mrunnables\u001b[39;00m\u001b[34;01m.\u001b[39;00m\u001b[34;01mgraph_mermaid\u001b[39;00m\u001b[38;5;250m \u001b[39m\u001b[38;5;28;01mimport\u001b[39;00m (  \u001b[38;5;66;03m# noqa: PLC0415\u001b[39;00m\n\u001b[32m    693\u001b[39m     draw_mermaid_png,\n\u001b[32m    694\u001b[39m )\n\u001b[32m    696\u001b[39m mermaid_syntax = \u001b[38;5;28mself\u001b[39m.draw_mermaid(\n\u001b[32m    697\u001b[39m     curve_style=curve_style,\n\u001b[32m    698\u001b[39m     node_colors=node_colors,\n\u001b[32m    699\u001b[39m     wrap_label_n_words=wrap_label_n_words,\n\u001b[32m    700\u001b[39m     frontmatter_config=frontmatter_config,\n\u001b[32m    701\u001b[39m )\n\u001b[32m--> \u001b[39m\u001b[32m702\u001b[39m \u001b[38;5;28;01mreturn\u001b[39;00m \u001b[43mdraw_mermaid_png\u001b[49m\u001b[43m(\u001b[49m\n\u001b[32m    703\u001b[39m \u001b[43m    \u001b[49m\u001b[43mmermaid_syntax\u001b[49m\u001b[43m=\u001b[49m\u001b[43mmermaid_syntax\u001b[49m\u001b[43m,\u001b[49m\n\u001b[32m    704\u001b[39m \u001b[43m    \u001b[49m\u001b[43moutput_file_path\u001b[49m\u001b[43m=\u001b[49m\u001b[43moutput_file_path\u001b[49m\u001b[43m,\u001b[49m\n\u001b[32m    705\u001b[39m \u001b[43m    \u001b[49m\u001b[43mdraw_method\u001b[49m\u001b[43m=\u001b[49m\u001b[43mdraw_method\u001b[49m\u001b[43m,\u001b[49m\n\u001b[32m    706\u001b[39m \u001b[43m    \u001b[49m\u001b[43mbackground_color\u001b[49m\u001b[43m=\u001b[49m\u001b[43mbackground_color\u001b[49m\u001b[43m,\u001b[49m\n\u001b[32m    707\u001b[39m \u001b[43m    \u001b[49m\u001b[43mpadding\u001b[49m\u001b[43m=\u001b[49m\u001b[43mpadding\u001b[49m\u001b[43m,\u001b[49m\n\u001b[32m    708\u001b[39m \u001b[43m    \u001b[49m\u001b[43mmax_retries\u001b[49m\u001b[43m=\u001b[49m\u001b[43mmax_retries\u001b[49m\u001b[43m,\u001b[49m\n\u001b[32m    709\u001b[39m \u001b[43m    \u001b[49m\u001b[43mretry_delay\u001b[49m\u001b[43m=\u001b[49m\u001b[43mretry_delay\u001b[49m\u001b[43m,\u001b[49m\n\u001b[32m    710\u001b[39m \u001b[43m\u001b[49m\u001b[43m)\u001b[49m\n",
      "\u001b[36mFile \u001b[39m\u001b[32md:\\LangGraph\\myvenv\\Lib\\site-packages\\langchain_core\\runnables\\graph_mermaid.py:310\u001b[39m, in \u001b[36mdraw_mermaid_png\u001b[39m\u001b[34m(mermaid_syntax, output_file_path, draw_method, background_color, padding, max_retries, retry_delay)\u001b[39m\n\u001b[32m    304\u001b[39m     img_bytes = asyncio.run(\n\u001b[32m    305\u001b[39m         _render_mermaid_using_pyppeteer(\n\u001b[32m    306\u001b[39m             mermaid_syntax, output_file_path, background_color, padding\n\u001b[32m    307\u001b[39m         )\n\u001b[32m    308\u001b[39m     )\n\u001b[32m    309\u001b[39m \u001b[38;5;28;01melif\u001b[39;00m draw_method == MermaidDrawMethod.API:\n\u001b[32m--> \u001b[39m\u001b[32m310\u001b[39m     img_bytes = \u001b[43m_render_mermaid_using_api\u001b[49m\u001b[43m(\u001b[49m\n\u001b[32m    311\u001b[39m \u001b[43m        \u001b[49m\u001b[43mmermaid_syntax\u001b[49m\u001b[43m,\u001b[49m\n\u001b[32m    312\u001b[39m \u001b[43m        \u001b[49m\u001b[43moutput_file_path\u001b[49m\u001b[43m=\u001b[49m\u001b[43moutput_file_path\u001b[49m\u001b[43m,\u001b[49m\n\u001b[32m    313\u001b[39m \u001b[43m        \u001b[49m\u001b[43mbackground_color\u001b[49m\u001b[43m=\u001b[49m\u001b[43mbackground_color\u001b[49m\u001b[43m,\u001b[49m\n\u001b[32m    314\u001b[39m \u001b[43m        \u001b[49m\u001b[43mmax_retries\u001b[49m\u001b[43m=\u001b[49m\u001b[43mmax_retries\u001b[49m\u001b[43m,\u001b[49m\n\u001b[32m    315\u001b[39m \u001b[43m        \u001b[49m\u001b[43mretry_delay\u001b[49m\u001b[43m=\u001b[49m\u001b[43mretry_delay\u001b[49m\u001b[43m,\u001b[49m\n\u001b[32m    316\u001b[39m \u001b[43m    \u001b[49m\u001b[43m)\u001b[49m\n\u001b[32m    317\u001b[39m \u001b[38;5;28;01melse\u001b[39;00m:\n\u001b[32m    318\u001b[39m     supported_methods = \u001b[33m\"\u001b[39m\u001b[33m, \u001b[39m\u001b[33m\"\u001b[39m.join([m.value \u001b[38;5;28;01mfor\u001b[39;00m m \u001b[38;5;129;01min\u001b[39;00m MermaidDrawMethod])\n",
      "\u001b[36mFile \u001b[39m\u001b[32md:\\LangGraph\\myvenv\\Lib\\site-packages\\langchain_core\\runnables\\graph_mermaid.py:463\u001b[39m, in \u001b[36m_render_mermaid_using_api\u001b[39m\u001b[34m(mermaid_syntax, output_file_path, background_color, file_type, max_retries, retry_delay)\u001b[39m\n\u001b[32m    458\u001b[39m     \u001b[38;5;66;03m# For other status codes, fail immediately\u001b[39;00m\n\u001b[32m    459\u001b[39m     msg = (\n\u001b[32m    460\u001b[39m         \u001b[33m\"\u001b[39m\u001b[33mFailed to reach https://mermaid.ink/ API while trying to render \u001b[39m\u001b[33m\"\u001b[39m\n\u001b[32m    461\u001b[39m         \u001b[33mf\u001b[39m\u001b[33m\"\u001b[39m\u001b[33myour graph. Status code: \u001b[39m\u001b[38;5;132;01m{\u001b[39;00mresponse.status_code\u001b[38;5;132;01m}\u001b[39;00m\u001b[33m.\u001b[39m\u001b[38;5;130;01m\\n\u001b[39;00m\u001b[38;5;130;01m\\n\u001b[39;00m\u001b[33m\"\u001b[39m\n\u001b[32m    462\u001b[39m     ) + error_msg_suffix\n\u001b[32m--> \u001b[39m\u001b[32m463\u001b[39m     \u001b[38;5;28;01mraise\u001b[39;00m \u001b[38;5;167;01mValueError\u001b[39;00m(msg)\n\u001b[32m    465\u001b[39m \u001b[38;5;28;01mexcept\u001b[39;00m (requests.RequestException, requests.Timeout) \u001b[38;5;28;01mas\u001b[39;00m e:\n\u001b[32m    466\u001b[39m     \u001b[38;5;28;01mif\u001b[39;00m attempt < max_retries:\n\u001b[32m    467\u001b[39m         \u001b[38;5;66;03m# Exponential backoff with jitter\u001b[39;00m\n",
      "\u001b[31mValueError\u001b[39m: Failed to reach https://mermaid.ink/ API while trying to render your graph. Status code: 500.\n\nTo resolve this issue:\n1. Check your internet connection and try again\n2. Try with higher retry settings: `draw_mermaid_png(..., max_retries=5, retry_delay=2.0)`\n3. Use the Pyppeteer rendering method which will render your graph locally in a browser: `draw_mermaid_png(..., draw_method=MermaidDrawMethod.PYPPETEER)`"
     ]
    },
    {
     "data": {
      "text/plain": [
       "<langgraph.graph.state.CompiledStateGraph at 0x21489880910>"
      ]
     },
     "execution_count": 30,
     "metadata": {},
     "output_type": "execute_result"
    }
   ],
   "source": [
    "workflow"
   ]
  },
  {
   "cell_type": "code",
   "execution_count": 31,
   "id": "395f984d",
   "metadata": {},
   "outputs": [],
   "source": [
    "essay2=\"\"\"Role of India in AI\n",
    "\n",
    "India is a big country and AI is also big nowdays. AI means Artificial Intelligence and it is about computers thinking like humans. India is playing a role in AI because many people in India do computer.\n",
    "\n",
    "The government is also talking about AI. NITI Aayog made a report about AI. They say AI can help in health, farming, school, smart city and traffic. So India can use AI in many places.\n",
    "\n",
    "In business also AI is used. For example in Flipkart when we shop it shows recommendation, that is AI. Banks also use AI for chatbots and to stop fraud. Doctors use AI for disease. Farmers can use it to see weather. So India is doing AI in many things.\n",
    "\n",
    "Big companies like Google and Microsoft also come to India and open office. They do research here because India has many engineers and coders. Startups in Bangalore and Hyderabad are working on AI too.\n",
    "\n",
    "But there are also problems. Data is not enough, internet is not always good in villages, and many people don’t know AI. Also sometimes AI can be unfair or biased.\n",
    "\n",
    "In future India can do more AI if government, students, companies all work together. It will make India powerful and modern country.\"\"\""
   ]
  },
  {
   "cell_type": "code",
   "execution_count": 32,
   "id": "b3485e17",
   "metadata": {},
   "outputs": [
    {
     "data": {
      "text/plain": [
       "{'essay': 'Role of India in AI\\n\\nIndia is a big country and AI is also big nowdays. AI means Artificial Intelligence and it is about computers thinking like humans. India is playing a role in AI because many people in India do computer.\\n\\nThe government is also talking about AI. NITI Aayog made a report about AI. They say AI can help in health, farming, school, smart city and traffic. So India can use AI in many places.\\n\\nIn business also AI is used. For example in Flipkart when we shop it shows recommendation, that is AI. Banks also use AI for chatbots and to stop fraud. Doctors use AI for disease. Farmers can use it to see weather. So India is doing AI in many things.\\n\\nBig companies like Google and Microsoft also come to India and open office. They do research here because India has many engineers and coders. Startups in Bangalore and Hyderabad are working on AI too.\\n\\nBut there are also problems. Data is not enough, internet is not always good in villages, and many people don’t know AI. Also sometimes AI can be unfair or biased.\\n\\nIn future India can do more AI if government, students, companies all work together. It will make India powerful and modern country.',\n",
       " 'language_feedback': EvaluationScema(feedback=\"The essay presents a basic overview of India's role in Artificial Intelligence (AI). However, it suffers from several language and structural issues. The introduction is vague and lacks a strong thesis statement to guide the reader through the discussion. Sentences are simple and often repetitive, leading to a lack of depth in analysis. The essay could benefit from more complex sentence structures and varied vocabulary to enhance the language quality. Additionally, some arguments are underdeveloped; for instance, while it mentions the government and startups, it doesn't elaborate on specific initiatives or challenges faced in AI development. Proper examples like the role of companies or specific applications could be expanded for clarity. Minor grammatical errors, such as “nowdays” (nowadays) and the inconsistent use of terms, detract from the professionalism of the writing. Overall, while the essay touches on pertinent points about AI in India, it lacks sophistication in language and depth in analysis.\", score=4),\n",
       " 'analysis_feedback': EvaluationScema(feedback='The essay provides a basic overview of the role of India in AI, mentioning various aspects such as government initiatives, business applications, and the involvement of major tech companies. However, the depth of analysis is quite shallow, as it primarily lists examples without thoroughly exploring their implications or providing nuanced insights. The structure is simplistic and lacks evidence or data to support claims, making it more of a summary than an analytical piece. Key issues such as data privacy, ethical implications of AI, and the specifics of government policies could have been discussed for a more comprehensive understanding. Additionally, the language is informal and could benefit from a more academic tone. Overall, while the essay touches on relevant points, it requires a deeper exploration of the subject matter and clearer organization to be effective.', score=4),\n",
       " 'clarity_feedback': EvaluationScema(feedback=\"The essay presents a clear understanding of the role of India in the field of artificial intelligence (AI) but lacks depth and detail in several areas. While the introduction appropriately defines AI and connects it to India's involvement, subsequent sections could benefit from more specific examples and elaboration. The mention of NITI Aayog's report is relevant but lacks a discussion of its content and implications. Additionally, the essay identifies different sectors where AI is applied, but the examples provided are shallow and need more context for clarity. For instance, explaining how Flipkart's recommendations work or detailing the types of AI applications in health and agriculture could enhance the depth of the analysis. The challenges outlined towards the end are important but feel somewhat underdeveloped; they could be expanded upon with suggestions for overcoming these issues. Lastly, the conclusion asserts the potential for AI development in India but could include more concrete actions or strategies for collaboration among stakeholders. Overall, the clarity of thought is present but could be improved with a deeper exploration of the topics discussed.\", score=5),\n",
       " 'overall_feedback': '**Summarized Feedback:**\\n\\nThe essay provides a basic overview of India\\'s role in Artificial Intelligence (AI), but it exhibits several structural and language-related issues that undermine its effectiveness. The introduction lacks a strong thesis statement, leading to a vague direction throughout the essay. Sentences tend to be simple and repetitive, resulting in superficial analysis. While the essay mentions various aspects of AI, including government initiatives and business applications, it tends to present these points without thorough exploration or nuanced insights, reducing it to more of a summary than an analytical piece.\\n\\nThe use of informal language detracts from the academic tone, and minor grammatical errors, such as \"nowdays\" instead of \"nowadays,\" impact professionalism. Key issues like data privacy, ethical implications, and specific government policies are not adequately addressed, and the mention of relevant reports lacks sufficient discussion of their content and implications. \\n\\nAlthough the essay identifies various sectors where AI is applied, the provided examples are shallow and lack context. Challenges mentioned towards the end are underdeveloped and could benefit from suggestions for resolution. The conclusion posits potential for AI in India but lacks concrete actions for collaboration among stakeholders. Overall, while the essay does cover pertinent points, it requires a more sophisticated language, deeper analysis, and improved clarity to be more effective. **Score: 4-5**.',\n",
       " 'indivisual_scores': [4, 4, 5],\n",
       " 'avg_score': 4.333333333333333}"
      ]
     },
     "execution_count": 32,
     "metadata": {},
     "output_type": "execute_result"
    }
   ],
   "source": [
    "initial_state = {\n",
    "    'essay': essay2,\n",
    "    \n",
    "}\n",
    "\n",
    "workflow.invoke(initial_state)"
   ]
  },
  {
   "cell_type": "code",
   "execution_count": null,
   "id": "2f21905f",
   "metadata": {},
   "outputs": [],
   "source": []
  }
 ],
 "metadata": {
  "kernelspec": {
   "display_name": "myvenv",
   "language": "python",
   "name": "python3"
  },
  "language_info": {
   "codemirror_mode": {
    "name": "ipython",
    "version": 3
   },
   "file_extension": ".py",
   "mimetype": "text/x-python",
   "name": "python",
   "nbconvert_exporter": "python",
   "pygments_lexer": "ipython3",
   "version": "3.13.3"
  }
 },
 "nbformat": 4,
 "nbformat_minor": 5
}
