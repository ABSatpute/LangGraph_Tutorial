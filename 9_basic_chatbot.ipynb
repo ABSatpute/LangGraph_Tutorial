{
 "cells": [
  {
   "cell_type": "code",
   "execution_count": 23,
   "id": "8345517c",
   "metadata": {},
   "outputs": [],
   "source": [
    "from langgraph.graph import StateGraph, START, END\n",
    "from typing import TypedDict, Annotated\n",
    "from langchain_core.messages import BaseMessage, HumanMessage\n",
    "from langchain_openai import ChatOpenAI\n",
    "from langgraph.checkpoint.memory import MemorySaver"
   ]
  },
  {
   "cell_type": "code",
   "execution_count": 14,
   "id": "5f340639",
   "metadata": {},
   "outputs": [],
   "source": [
    "from langgraph.graph.message import add_messages\n",
    "\n",
    "class ChatState(TypedDict):\n",
    "    \n",
    "    messages : Annotated[list[BaseMessage], add_messages]\n",
    "    "
   ]
  },
  {
   "cell_type": "code",
   "execution_count": 15,
   "id": "f76da08a",
   "metadata": {},
   "outputs": [],
   "source": [
    "llm = ChatOpenAI()\n",
    "\n",
    "def chat_node(state: ChatState):\n",
    "    \n",
    "    # take user query from state\n",
    "    messages = state['messages']\n",
    "    \n",
    "    # send to llm \n",
    "    response=llm.invoke(messages)\n",
    "    \n",
    "    # response store to state\n",
    "    return {'messages' : [response]}\n",
    "    "
   ]
  },
  {
   "cell_type": "code",
   "execution_count": 24,
   "id": "50db46be",
   "metadata": {},
   "outputs": [],
   "source": [
    "checkpointer = MemorySaver()\n",
    "\n",
    "graph = StateGraph(ChatState)\n",
    "\n",
    "# Add nodes\n",
    "graph.add_node(\"chat_node\", chat_node)\n",
    "\n",
    "graph.add_edge(START, 'chat_node')\n",
    "graph.add_edge('chat_node', END)\n",
    "\n",
    "chatbot=graph.compile(checkpointer=checkpointer)\n"
   ]
  },
  {
   "cell_type": "code",
   "execution_count": 17,
   "id": "beeb8545",
   "metadata": {},
   "outputs": [
    {
     "data": {
      "image/png": "[encoded data removed]",
      "text/plain": [
       "<langgraph.graph.state.CompiledStateGraph object at 0x00000136F629B110>"
      ]
     },
     "execution_count": 17,
     "metadata": {},
     "output_type": "execute_result"
    }
   ],
   "source": [
    "chatbot"
   ]
  },
  {
   "cell_type": "code",
   "execution_count": 20,
   "id": "7737fe3e",
   "metadata": {},
   "outputs": [
    {
     "data": {
      "text/plain": [
       "'The capital of India is New Delhi.'"
      ]
     },
     "execution_count": 20,
     "metadata": {},
     "output_type": "execute_result"
    }
   ],
   "source": [
    "initial_state = {\n",
    "    'messages' : [HumanMessage(content='What is the capital of india')]\n",
    "}\n",
    "\n",
    "chatbot.invoke(initial_state)['messages'][-1].content"
   ]
  },
  {
   "cell_type": "code",
   "execution_count": 25,
   "id": "fdb45161",
   "metadata": {},
   "outputs": [
    {
     "name": "stdout",
     "output_type": "stream",
     "text": [
      "User:  hi my name is akash\n",
      "AI: Hello Akash, it's nice to meet you. How can I assist you today?\n",
      "User:  what is meaning of my name in sanskrit\n",
      "AI: In Sanskrit, the name Akash means \"sky\" or \"space\". It carries connotations of vastness, openness, and boundlessness. It is a beautiful and meaningful name with a deep spiritual significance.\n",
      "User:  can you add 15 in 868\n",
      "AI: Sure! The answer to adding 15 to 868 is 883.\n",
      "User:  then multiply with biggest prime number ever found\n",
      "AI: The largest prime number that has been discovered so far is 2^82,589,933 - 1, which is a Mersenne prime number. When you multiply 883 by this prime number:\n",
      "\n",
      "883 x 2^82,589,933 - 1 = a very large number\n",
      "\n",
      "Unfortunately, the number is too large to display or calculate accurately in this platform.\n",
      "User:  bye\n"
     ]
    }
   ],
   "source": [
    "thread_id = '1'\n",
    "\n",
    "while True:\n",
    "    user_message=input('Type Here')\n",
    "    print(\"User: \", user_message)\n",
    "    \n",
    "    if user_message.strip().lower() in [\"exit\", \"q\", \"quit\", \"bye\"]:\n",
    "        break\n",
    "    \n",
    "    config = {'configurable': {'thread_id': thread_id}}\n",
    "    response = chatbot.invoke({'messages': [HumanMessage(content=user_message)]}, config=config)\n",
    "    print(\"AI:\", response['messages'][-1].content)"
   ]
  },
  {
   "cell_type": "code",
   "execution_count": 26,
   "id": "51ec8027",
   "metadata": {},
   "outputs": [
    {
     "data": {
      "text/plain": [
       "StateSnapshot(values={'messages': [HumanMessage(content='hi my name is akash', additional_kwargs={}, response_metadata={}, id='3dabf9ab-66ad-4ad5-bd62-865f5eb1ae70'), AIMessage(content=\"Hello Akash, it's nice to meet you. How can I assist you today?\", additional_kwargs={'refusal': None}, response_metadata={'token_usage': {'completion_tokens': 18, 'prompt_tokens': 13, 'total_tokens': 31, 'completion_tokens_details': {'accepted_prediction_tokens': 0, 'audio_tokens': 0, 'reasoning_tokens': 0, 'rejected_prediction_tokens': 0}, 'prompt_tokens_details': {'audio_tokens': 0, 'cached_tokens': 0}}, 'model_name': 'gpt-3.5-turbo-0125', 'system_fingerprint': None, 'id': 'chatcmpl-CJvbiRMxxLCSoMk9kJwT0MjyEdFlo', 'service_tier': 'default', 'finish_reason': 'stop', 'logprobs': None}, id='run--b94c65fa-09e2-4583-9dbd-742902706940-0', usage_metadata={'input_tokens': 13, 'output_tokens': 18, 'total_tokens': 31, 'input_token_details': {'audio': 0, 'cache_read': 0}, 'output_token_details': {'audio': 0, 'reasoning': 0}}), HumanMessage(content='what is meaning of my name in sanskrit', additional_kwargs={}, response_metadata={}, id='aa02a449-6d24-42b1-ab6f-fece7b1dbb2c'), AIMessage(content='In Sanskrit, the name Akash means \"sky\" or \"space\". It carries connotations of vastness, openness, and boundlessness. It is a beautiful and meaningful name with a deep spiritual significance.', additional_kwargs={'refusal': None}, response_metadata={'token_usage': {'completion_tokens': 43, 'prompt_tokens': 48, 'total_tokens': 91, 'completion_tokens_details': {'accepted_prediction_tokens': 0, 'audio_tokens': 0, 'reasoning_tokens': 0, 'rejected_prediction_tokens': 0}, 'prompt_tokens_details': {'audio_tokens': 0, 'cached_tokens': 0}}, 'model_name': 'gpt-3.5-turbo-0125', 'system_fingerprint': None, 'id': 'chatcmpl-CJvcBhDlw9wkxKkSgZnjL0iXSmZku', 'service_tier': 'default', 'finish_reason': 'stop', 'logprobs': None}, id='run--70bf5942-c633-40de-8f8a-61ad277c2f51-0', usage_metadata={'input_tokens': 48, 'output_tokens': 43, 'total_tokens': 91, 'input_token_details': {'audio': 0, 'cache_read': 0}, 'output_token_details': {'audio': 0, 'reasoning': 0}}), HumanMessage(content='can you add 15 in 868', additional_kwargs={}, response_metadata={}, id='707116ec-d094-45ee-bf3f-8408d3ad2eb6'), AIMessage(content='Sure! The answer to adding 15 to 868 is 883.', additional_kwargs={'refusal': None}, response_metadata={'token_usage': {'completion_tokens': 15, 'prompt_tokens': 107, 'total_tokens': 122, 'completion_tokens_details': {'accepted_prediction_tokens': 0, 'audio_tokens': 0, 'reasoning_tokens': 0, 'rejected_prediction_tokens': 0}, 'prompt_tokens_details': {'audio_tokens': 0, 'cached_tokens': 0}}, 'model_name': 'gpt-3.5-turbo-0125', 'system_fingerprint': None, 'id': 'chatcmpl-CJveMSWGaFAXCXex6k8u2QcOCpLi8', 'service_tier': 'default', 'finish_reason': 'stop', 'logprobs': None}, id='run--cd8bb840-4717-40c7-a711-57a5908a0118-0', usage_metadata={'input_tokens': 107, 'output_tokens': 15, 'total_tokens': 122, 'input_token_details': {'audio': 0, 'cache_read': 0}, 'output_token_details': {'audio': 0, 'reasoning': 0}}), HumanMessage(content='then multiply with biggest prime number ever found', additional_kwargs={}, response_metadata={}, id='056d80a8-5ef0-4ec0-9bcf-9cb076973878'), AIMessage(content='The largest prime number that has been discovered so far is 2^82,589,933 - 1, which is a Mersenne prime number. When you multiply 883 by this prime number:\\n\\n883 x 2^82,589,933 - 1 = a very large number\\n\\nUnfortunately, the number is too large to display or calculate accurately in this platform.', additional_kwargs={'refusal': None}, response_metadata={'token_usage': {'completion_tokens': 77, 'prompt_tokens': 138, 'total_tokens': 215, 'completion_tokens_details': {'accepted_prediction_tokens': 0, 'audio_tokens': 0, 'reasoning_tokens': 0, 'rejected_prediction_tokens': 0}, 'prompt_tokens_details': {'audio_tokens': 0, 'cached_tokens': 0}}, 'model_name': 'gpt-3.5-turbo-0125', 'system_fingerprint': None, 'id': 'chatcmpl-CJvf3GhzLwTKiDkoiVVPiocJrAmHV', 'service_tier': 'default', 'finish_reason': 'stop', 'logprobs': None}, id='run--fb0313e9-d875-490a-8a3f-f5d1b3be26e3-0', usage_metadata={'input_tokens': 138, 'output_tokens': 77, 'total_tokens': 215, 'input_token_details': {'audio': 0, 'cache_read': 0}, 'output_token_details': {'audio': 0, 'reasoning': 0}})]}, next=(), config={'configurable': {'thread_id': '1', 'checkpoint_ns': '', 'checkpoint_id': '1f09a9ce-9dfa-6d90-800a-29e4e64352ca'}}, metadata={'source': 'loop', 'step': 10, 'parents': {}}, created_at='2025-09-26T05:51:57.781055+00:00', parent_config={'configurable': {'thread_id': '1', 'checkpoint_ns': '', 'checkpoint_id': '1f09a9ce-9118-61e3-8009-ec7680bfadf3'}}, tasks=(), interrupts=())"
      ]
     },
     "execution_count": 26,
     "metadata": {},
     "output_type": "execute_result"
    }
   ],
   "source": [
    "chatbot.get_state(config=config)"
   ]
  },
  {
   "cell_type": "code",
   "execution_count": null,
   "id": "08785492",
   "metadata": {},
   "outputs": [],
   "source": []
  }
 ],
 "metadata": {
  "kernelspec": {
   "display_name": "myvenv",
   "language": "python",
   "name": "python3"
  },
  "language_info": {
   "codemirror_mode": {
    "name": "ipython",
    "version": 3
   },
   "file_extension": ".py",
   "mimetype": "text/x-python",
   "name": "python",
   "nbconvert_exporter": "python",
   "pygments_lexer": "ipython3",
   "version": "3.13.3"
  }
 },
 "nbformat": 4,
 "nbformat_minor": 5
}
